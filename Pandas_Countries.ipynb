{
 "cells": [
  {
   "cell_type": "code",
   "execution_count": 2,
   "metadata": {},
   "outputs": [],
   "source": [
    "import pandas as pd\n",
    "import requests\n",
    "resp = requests.get(\"https://restcountries.eu/rest/v2/all\")\n",
    "cdf = pd.read_json(resp.text)"
   ]
  },
  {
   "cell_type": "code",
   "execution_count": 4,
   "metadata": {},
   "outputs": [
    {
     "data": {
      "text/html": [
       "<div>\n",
       "<style scoped>\n",
       "    .dataframe tbody tr th:only-of-type {\n",
       "        vertical-align: middle;\n",
       "    }\n",
       "\n",
       "    .dataframe tbody tr th {\n",
       "        vertical-align: top;\n",
       "    }\n",
       "\n",
       "    .dataframe thead th {\n",
       "        text-align: right;\n",
       "    }\n",
       "</style>\n",
       "<table border=\"1\" class=\"dataframe\">\n",
       "  <thead>\n",
       "    <tr style=\"text-align: right;\">\n",
       "      <th></th>\n",
       "      <th>name</th>\n",
       "      <th>population</th>\n",
       "    </tr>\n",
       "  </thead>\n",
       "  <tbody>\n",
       "    <tr>\n",
       "      <th>18</th>\n",
       "      <td>Bangladesh</td>\n",
       "      <td>161006790</td>\n",
       "    </tr>\n",
       "    <tr>\n",
       "      <th>31</th>\n",
       "      <td>Brazil</td>\n",
       "      <td>206135893</td>\n",
       "    </tr>\n",
       "    <tr>\n",
       "      <th>48</th>\n",
       "      <td>China</td>\n",
       "      <td>1377422166</td>\n",
       "    </tr>\n",
       "    <tr>\n",
       "      <th>104</th>\n",
       "      <td>India</td>\n",
       "      <td>1295210000</td>\n",
       "    </tr>\n",
       "    <tr>\n",
       "      <th>105</th>\n",
       "      <td>Indonesia</td>\n",
       "      <td>258705000</td>\n",
       "    </tr>\n",
       "    <tr>\n",
       "      <th>114</th>\n",
       "      <td>Japan</td>\n",
       "      <td>126960000</td>\n",
       "    </tr>\n",
       "    <tr>\n",
       "      <th>144</th>\n",
       "      <td>Mexico</td>\n",
       "      <td>122273473</td>\n",
       "    </tr>\n",
       "    <tr>\n",
       "      <th>162</th>\n",
       "      <td>Nigeria</td>\n",
       "      <td>186988000</td>\n",
       "    </tr>\n",
       "    <tr>\n",
       "      <th>169</th>\n",
       "      <td>Pakistan</td>\n",
       "      <td>194125062</td>\n",
       "    </tr>\n",
       "    <tr>\n",
       "      <th>176</th>\n",
       "      <td>Philippines</td>\n",
       "      <td>103279800</td>\n",
       "    </tr>\n",
       "    <tr>\n",
       "      <th>185</th>\n",
       "      <td>Russian Federation</td>\n",
       "      <td>146599183</td>\n",
       "    </tr>\n",
       "    <tr>\n",
       "      <th>239</th>\n",
       "      <td>United States of America</td>\n",
       "      <td>323947000</td>\n",
       "    </tr>\n",
       "  </tbody>\n",
       "</table>\n",
       "</div>"
      ],
      "text/plain": [
       "                         name  population\n",
       "18                 Bangladesh   161006790\n",
       "31                     Brazil   206135893\n",
       "48                      China  1377422166\n",
       "104                     India  1295210000\n",
       "105                 Indonesia   258705000\n",
       "114                     Japan   126960000\n",
       "144                    Mexico   122273473\n",
       "162                   Nigeria   186988000\n",
       "169                  Pakistan   194125062\n",
       "176               Philippines   103279800\n",
       "185        Russian Federation   146599183\n",
       "239  United States of America   323947000"
      ]
     },
     "execution_count": 4,
     "metadata": {},
     "output_type": "execute_result"
    }
   ],
   "source": [
    "cdf.loc [cdf['population'] > 100000000 , ['name','population'] ]"
   ]
  },
  {
   "cell_type": "code",
   "execution_count": 5,
   "metadata": {},
   "outputs": [
    {
     "name": "stdout",
     "output_type": "stream",
     "text": [
      "<class 'pandas.core.frame.DataFrame'>\n",
      "RangeIndex: 250 entries, 0 to 249\n",
      "Data columns (total 24 columns):\n",
      "alpha2Code        250 non-null object\n",
      "alpha3Code        250 non-null object\n",
      "altSpellings      250 non-null object\n",
      "area              240 non-null float64\n",
      "borders           250 non-null object\n",
      "callingCodes      250 non-null object\n",
      "capital           250 non-null object\n",
      "cioc              247 non-null object\n",
      "currencies        250 non-null object\n",
      "demonym           250 non-null object\n",
      "flag              250 non-null object\n",
      "gini              153 non-null float64\n",
      "languages         250 non-null object\n",
      "latlng            250 non-null object\n",
      "name              250 non-null object\n",
      "nativeName        250 non-null object\n",
      "numericCode       249 non-null float64\n",
      "population        250 non-null int64\n",
      "region            250 non-null object\n",
      "regionalBlocs     250 non-null object\n",
      "subregion         250 non-null object\n",
      "timezones         250 non-null object\n",
      "topLevelDomain    250 non-null object\n",
      "translations      250 non-null object\n",
      "dtypes: float64(3), int64(1), object(20)\n",
      "memory usage: 47.0+ KB\n"
     ]
    }
   ],
   "source": [
    "cdf.info()"
   ]
  },
  {
   "cell_type": "code",
   "execution_count": null,
   "metadata": {},
   "outputs": [],
   "source": []
  }
 ],
 "metadata": {
  "kernelspec": {
   "display_name": "Python 3",
   "language": "python",
   "name": "python3"
  },
  "language_info": {
   "codemirror_mode": {
    "name": "ipython",
    "version": 3
   },
   "file_extension": ".py",
   "mimetype": "text/x-python",
   "name": "python",
   "nbconvert_exporter": "python",
   "pygments_lexer": "ipython3",
   "version": "3.7.1"
  }
 },
 "nbformat": 4,
 "nbformat_minor": 2
}
